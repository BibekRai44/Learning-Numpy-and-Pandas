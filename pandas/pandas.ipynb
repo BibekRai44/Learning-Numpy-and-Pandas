{
 "cells": [
  {
   "cell_type": "code",
   "execution_count": 1,
   "id": "208690d6",
   "metadata": {},
   "outputs": [],
   "source": [
    "import numpy as np\n",
    "import pandas as pd"
   ]
  },
  {
   "cell_type": "code",
   "execution_count": 3,
   "id": "8578fc9d",
   "metadata": {},
   "outputs": [],
   "source": [
    "dict1={\n",
    "    \"name\":[\"bibek\",\"asmit\",\"milan\",\"kishor\"],\n",
    "    \"marks\":[23,67,45,56],\n",
    "    \"city\":[\"dmk\",\"ktm\",\"pk\",\"brt\"]\n",
    "}"
   ]
  },
  {
   "cell_type": "code",
   "execution_count": 4,
   "id": "1bfdfe68",
   "metadata": {},
   "outputs": [],
   "source": [
    "df=pd.DataFrame(dict1)"
   ]
  },
  {
   "cell_type": "code",
   "execution_count": 5,
   "id": "17fac8b9",
   "metadata": {},
   "outputs": [
    {
     "data": {
      "text/html": [
       "<div>\n",
       "<style scoped>\n",
       "    .dataframe tbody tr th:only-of-type {\n",
       "        vertical-align: middle;\n",
       "    }\n",
       "\n",
       "    .dataframe tbody tr th {\n",
       "        vertical-align: top;\n",
       "    }\n",
       "\n",
       "    .dataframe thead th {\n",
       "        text-align: right;\n",
       "    }\n",
       "</style>\n",
       "<table border=\"1\" class=\"dataframe\">\n",
       "  <thead>\n",
       "    <tr style=\"text-align: right;\">\n",
       "      <th></th>\n",
       "      <th>name</th>\n",
       "      <th>marks</th>\n",
       "      <th>city</th>\n",
       "    </tr>\n",
       "  </thead>\n",
       "  <tbody>\n",
       "    <tr>\n",
       "      <th>0</th>\n",
       "      <td>bibek</td>\n",
       "      <td>23</td>\n",
       "      <td>dmk</td>\n",
       "    </tr>\n",
       "    <tr>\n",
       "      <th>1</th>\n",
       "      <td>asmit</td>\n",
       "      <td>67</td>\n",
       "      <td>ktm</td>\n",
       "    </tr>\n",
       "    <tr>\n",
       "      <th>2</th>\n",
       "      <td>milan</td>\n",
       "      <td>45</td>\n",
       "      <td>pk</td>\n",
       "    </tr>\n",
       "    <tr>\n",
       "      <th>3</th>\n",
       "      <td>kishor</td>\n",
       "      <td>56</td>\n",
       "      <td>brt</td>\n",
       "    </tr>\n",
       "  </tbody>\n",
       "</table>\n",
       "</div>"
      ],
      "text/plain": [
       "     name  marks city\n",
       "0   bibek     23  dmk\n",
       "1   asmit     67  ktm\n",
       "2   milan     45   pk\n",
       "3  kishor     56  brt"
      ]
     },
     "execution_count": 5,
     "metadata": {},
     "output_type": "execute_result"
    }
   ],
   "source": [
    "df"
   ]
  },
  {
   "cell_type": "code",
   "execution_count": 7,
   "id": "d44bd4e5",
   "metadata": {},
   "outputs": [],
   "source": [
    "df.to_csv('friends.csv')"
   ]
  },
  {
   "cell_type": "code",
   "execution_count": 9,
   "id": "c4c25bf0",
   "metadata": {},
   "outputs": [],
   "source": [
    "df.to_csv('friends_index.csv',index=False)"
   ]
  },
  {
   "cell_type": "code",
   "execution_count": 10,
   "id": "d5b08e2a",
   "metadata": {},
   "outputs": [
    {
     "data": {
      "text/html": [
       "<div>\n",
       "<style scoped>\n",
       "    .dataframe tbody tr th:only-of-type {\n",
       "        vertical-align: middle;\n",
       "    }\n",
       "\n",
       "    .dataframe tbody tr th {\n",
       "        vertical-align: top;\n",
       "    }\n",
       "\n",
       "    .dataframe thead th {\n",
       "        text-align: right;\n",
       "    }\n",
       "</style>\n",
       "<table border=\"1\" class=\"dataframe\">\n",
       "  <thead>\n",
       "    <tr style=\"text-align: right;\">\n",
       "      <th></th>\n",
       "      <th>Unnamed: 0</th>\n",
       "      <th>name</th>\n",
       "      <th>marks</th>\n",
       "      <th>city</th>\n",
       "    </tr>\n",
       "  </thead>\n",
       "  <tbody>\n",
       "    <tr>\n",
       "      <th>0</th>\n",
       "      <td>0</td>\n",
       "      <td>bibek</td>\n",
       "      <td>23</td>\n",
       "      <td>dmk</td>\n",
       "    </tr>\n",
       "    <tr>\n",
       "      <th>1</th>\n",
       "      <td>1</td>\n",
       "      <td>asmit</td>\n",
       "      <td>67</td>\n",
       "      <td>ktm</td>\n",
       "    </tr>\n",
       "    <tr>\n",
       "      <th>2</th>\n",
       "      <td>2</td>\n",
       "      <td>milan</td>\n",
       "      <td>45</td>\n",
       "      <td>pk</td>\n",
       "    </tr>\n",
       "    <tr>\n",
       "      <th>3</th>\n",
       "      <td>3</td>\n",
       "      <td>kishor</td>\n",
       "      <td>56</td>\n",
       "      <td>brt</td>\n",
       "    </tr>\n",
       "  </tbody>\n",
       "</table>\n",
       "</div>"
      ],
      "text/plain": [
       "   Unnamed: 0    name  marks city\n",
       "0           0   bibek     23  dmk\n",
       "1           1   asmit     67  ktm\n",
       "2           2   milan     45   pk\n",
       "3           3  kishor     56  brt"
      ]
     },
     "execution_count": 10,
     "metadata": {},
     "output_type": "execute_result"
    }
   ],
   "source": [
    "pd.read_csv('friends.csv')"
   ]
  },
  {
   "cell_type": "code",
   "execution_count": 15,
   "id": "c7fd2510",
   "metadata": {},
   "outputs": [
    {
     "data": {
      "text/plain": [
       "[23, 67, 45, 56]"
      ]
     },
     "execution_count": 15,
     "metadata": {},
     "output_type": "execute_result"
    }
   ],
   "source": [
    "dict1['marks']"
   ]
  },
  {
   "cell_type": "code",
   "execution_count": 16,
   "id": "ab7f7560",
   "metadata": {},
   "outputs": [
    {
     "data": {
      "text/plain": [
       "23"
      ]
     },
     "execution_count": 16,
     "metadata": {},
     "output_type": "execute_result"
    }
   ],
   "source": [
    "dict1['marks'][0]"
   ]
  },
  {
   "cell_type": "code",
   "execution_count": 17,
   "id": "3c8376f8",
   "metadata": {},
   "outputs": [],
   "source": [
    "dict1['marks'][0]=50"
   ]
  },
  {
   "cell_type": "code",
   "execution_count": 18,
   "id": "147472c1",
   "metadata": {},
   "outputs": [
    {
     "data": {
      "text/plain": [
       "{'name': ['bibek', 'asmit', 'milan', 'kishor'],\n",
       " 'marks': [50, 67, 45, 56],\n",
       " 'city': ['dmk', 'ktm', 'pk', 'brt']}"
      ]
     },
     "execution_count": 18,
     "metadata": {},
     "output_type": "execute_result"
    }
   ],
   "source": [
    "dict1"
   ]
  },
  {
   "cell_type": "code",
   "execution_count": 19,
   "id": "f6f25c94",
   "metadata": {},
   "outputs": [],
   "source": [
    "dict1['city'][0]='kamal'"
   ]
  },
  {
   "cell_type": "code",
   "execution_count": 20,
   "id": "4f2b05a9",
   "metadata": {},
   "outputs": [
    {
     "data": {
      "text/plain": [
       "{'name': ['bibek', 'asmit', 'milan', 'kishor'],\n",
       " 'marks': [50, 67, 45, 56],\n",
       " 'city': ['kamal', 'ktm', 'pk', 'brt']}"
      ]
     },
     "execution_count": 20,
     "metadata": {},
     "output_type": "execute_result"
    }
   ],
   "source": [
    "dict1"
   ]
  },
  {
   "cell_type": "code",
   "execution_count": 27,
   "id": "347bc29c",
   "metadata": {},
   "outputs": [
    {
     "data": {
      "text/html": [
       "<div>\n",
       "<style scoped>\n",
       "    .dataframe tbody tr th:only-of-type {\n",
       "        vertical-align: middle;\n",
       "    }\n",
       "\n",
       "    .dataframe tbody tr th {\n",
       "        vertical-align: top;\n",
       "    }\n",
       "\n",
       "    .dataframe thead th {\n",
       "        text-align: right;\n",
       "    }\n",
       "</style>\n",
       "<table border=\"1\" class=\"dataframe\">\n",
       "  <thead>\n",
       "    <tr style=\"text-align: right;\">\n",
       "      <th></th>\n",
       "      <th>name</th>\n",
       "      <th>marks</th>\n",
       "      <th>city</th>\n",
       "    </tr>\n",
       "  </thead>\n",
       "  <tbody>\n",
       "    <tr>\n",
       "      <th>0</th>\n",
       "      <td>bibek</td>\n",
       "      <td>50</td>\n",
       "      <td>kamal</td>\n",
       "    </tr>\n",
       "    <tr>\n",
       "      <th>1</th>\n",
       "      <td>asmit</td>\n",
       "      <td>67</td>\n",
       "      <td>ktm</td>\n",
       "    </tr>\n",
       "    <tr>\n",
       "      <th>2</th>\n",
       "      <td>milan</td>\n",
       "      <td>45</td>\n",
       "      <td>pk</td>\n",
       "    </tr>\n",
       "    <tr>\n",
       "      <th>3</th>\n",
       "      <td>kishor</td>\n",
       "      <td>56</td>\n",
       "      <td>brt</td>\n",
       "    </tr>\n",
       "  </tbody>\n",
       "</table>\n",
       "</div>"
      ],
      "text/plain": [
       "     name  marks   city\n",
       "0   bibek     50  kamal\n",
       "1   asmit     67    ktm\n",
       "2   milan     45     pk\n",
       "3  kishor     56    brt"
      ]
     },
     "execution_count": 27,
     "metadata": {},
     "output_type": "execute_result"
    }
   ],
   "source": [
    "pd.DataFrame(dict1)"
   ]
  },
  {
   "cell_type": "code",
   "execution_count": 29,
   "id": "4eb7ad26",
   "metadata": {},
   "outputs": [],
   "source": [
    "df.to_csv('changed.csv')"
   ]
  },
  {
   "cell_type": "code",
   "execution_count": 47,
   "id": "68032e5b",
   "metadata": {},
   "outputs": [],
   "source": [
    "df.index=['1st','2nd','3rd','4th']"
   ]
  },
  {
   "cell_type": "code",
   "execution_count": 48,
   "id": "8faa83ff",
   "metadata": {},
   "outputs": [
    {
     "data": {
      "text/plain": [
       "{'name': ['bibek', 'asmit', 'milan', 'kishor'],\n",
       " 'marks': [50, 67, 45, 56],\n",
       " 'city': ['kamal', 'ktm', 'pk', 'brt']}"
      ]
     },
     "execution_count": 48,
     "metadata": {},
     "output_type": "execute_result"
    }
   ],
   "source": [
    "dict1"
   ]
  },
  {
   "cell_type": "code",
   "execution_count": 49,
   "id": "b5e2250f",
   "metadata": {},
   "outputs": [
    {
     "data": {
      "text/html": [
       "<div>\n",
       "<style scoped>\n",
       "    .dataframe tbody tr th:only-of-type {\n",
       "        vertical-align: middle;\n",
       "    }\n",
       "\n",
       "    .dataframe tbody tr th {\n",
       "        vertical-align: top;\n",
       "    }\n",
       "\n",
       "    .dataframe thead th {\n",
       "        text-align: right;\n",
       "    }\n",
       "</style>\n",
       "<table border=\"1\" class=\"dataframe\">\n",
       "  <thead>\n",
       "    <tr style=\"text-align: right;\">\n",
       "      <th></th>\n",
       "      <th>name</th>\n",
       "      <th>marks</th>\n",
       "      <th>city</th>\n",
       "    </tr>\n",
       "  </thead>\n",
       "  <tbody>\n",
       "    <tr>\n",
       "      <th>0</th>\n",
       "      <td>bibek</td>\n",
       "      <td>50</td>\n",
       "      <td>kamal</td>\n",
       "    </tr>\n",
       "    <tr>\n",
       "      <th>1</th>\n",
       "      <td>asmit</td>\n",
       "      <td>67</td>\n",
       "      <td>ktm</td>\n",
       "    </tr>\n",
       "    <tr>\n",
       "      <th>2</th>\n",
       "      <td>milan</td>\n",
       "      <td>45</td>\n",
       "      <td>pk</td>\n",
       "    </tr>\n",
       "    <tr>\n",
       "      <th>3</th>\n",
       "      <td>kishor</td>\n",
       "      <td>56</td>\n",
       "      <td>brt</td>\n",
       "    </tr>\n",
       "  </tbody>\n",
       "</table>\n",
       "</div>"
      ],
      "text/plain": [
       "     name  marks   city\n",
       "0   bibek     50  kamal\n",
       "1   asmit     67    ktm\n",
       "2   milan     45     pk\n",
       "3  kishor     56    brt"
      ]
     },
     "execution_count": 49,
     "metadata": {},
     "output_type": "execute_result"
    }
   ],
   "source": [
    "pd.DataFrame(dict1)"
   ]
  },
  {
   "cell_type": "code",
   "execution_count": 53,
   "id": "e0f6a525",
   "metadata": {},
   "outputs": [],
   "source": [
    "ser= pd.Series(np.random.rand(10))"
   ]
  },
  {
   "cell_type": "code",
   "execution_count": 58,
   "id": "e448b412",
   "metadata": {},
   "outputs": [
    {
     "data": {
      "text/plain": [
       "dtype('float64')"
      ]
     },
     "execution_count": 58,
     "metadata": {},
     "output_type": "execute_result"
    }
   ],
   "source": [
    "ser.dtype"
   ]
  },
  {
   "cell_type": "code",
   "execution_count": 64,
   "id": "244449fc",
   "metadata": {},
   "outputs": [],
   "source": [
    "newdf=pd.DataFrame(np.random.rand(334,5),index=np.arange(334)) "
   ]
  },
  {
   "cell_type": "code",
   "execution_count": 66,
   "id": "1a3c88e0",
   "metadata": {},
   "outputs": [
    {
     "data": {
      "text/html": [
       "<div>\n",
       "<style scoped>\n",
       "    .dataframe tbody tr th:only-of-type {\n",
       "        vertical-align: middle;\n",
       "    }\n",
       "\n",
       "    .dataframe tbody tr th {\n",
       "        vertical-align: top;\n",
       "    }\n",
       "\n",
       "    .dataframe thead th {\n",
       "        text-align: right;\n",
       "    }\n",
       "</style>\n",
       "<table border=\"1\" class=\"dataframe\">\n",
       "  <thead>\n",
       "    <tr style=\"text-align: right;\">\n",
       "      <th></th>\n",
       "      <th>0</th>\n",
       "      <th>1</th>\n",
       "      <th>2</th>\n",
       "      <th>3</th>\n",
       "      <th>4</th>\n",
       "    </tr>\n",
       "  </thead>\n",
       "  <tbody>\n",
       "    <tr>\n",
       "      <th>0</th>\n",
       "      <td>0.373841</td>\n",
       "      <td>0.133593</td>\n",
       "      <td>0.827758</td>\n",
       "      <td>0.332850</td>\n",
       "      <td>0.815619</td>\n",
       "    </tr>\n",
       "    <tr>\n",
       "      <th>1</th>\n",
       "      <td>0.223381</td>\n",
       "      <td>0.673758</td>\n",
       "      <td>0.708266</td>\n",
       "      <td>0.918993</td>\n",
       "      <td>0.229196</td>\n",
       "    </tr>\n",
       "    <tr>\n",
       "      <th>2</th>\n",
       "      <td>0.735779</td>\n",
       "      <td>0.986118</td>\n",
       "      <td>0.126935</td>\n",
       "      <td>0.685023</td>\n",
       "      <td>0.050855</td>\n",
       "    </tr>\n",
       "    <tr>\n",
       "      <th>3</th>\n",
       "      <td>0.331808</td>\n",
       "      <td>0.607073</td>\n",
       "      <td>0.507821</td>\n",
       "      <td>0.953118</td>\n",
       "      <td>0.656889</td>\n",
       "    </tr>\n",
       "    <tr>\n",
       "      <th>4</th>\n",
       "      <td>0.433670</td>\n",
       "      <td>0.947273</td>\n",
       "      <td>0.162297</td>\n",
       "      <td>0.420103</td>\n",
       "      <td>0.655472</td>\n",
       "    </tr>\n",
       "    <tr>\n",
       "      <th>...</th>\n",
       "      <td>...</td>\n",
       "      <td>...</td>\n",
       "      <td>...</td>\n",
       "      <td>...</td>\n",
       "      <td>...</td>\n",
       "    </tr>\n",
       "    <tr>\n",
       "      <th>329</th>\n",
       "      <td>0.942466</td>\n",
       "      <td>0.445416</td>\n",
       "      <td>0.966202</td>\n",
       "      <td>0.295537</td>\n",
       "      <td>0.293268</td>\n",
       "    </tr>\n",
       "    <tr>\n",
       "      <th>330</th>\n",
       "      <td>0.387183</td>\n",
       "      <td>0.186650</td>\n",
       "      <td>0.753521</td>\n",
       "      <td>0.025815</td>\n",
       "      <td>0.721198</td>\n",
       "    </tr>\n",
       "    <tr>\n",
       "      <th>331</th>\n",
       "      <td>0.445693</td>\n",
       "      <td>0.522044</td>\n",
       "      <td>0.357614</td>\n",
       "      <td>0.175042</td>\n",
       "      <td>0.052485</td>\n",
       "    </tr>\n",
       "    <tr>\n",
       "      <th>332</th>\n",
       "      <td>0.134392</td>\n",
       "      <td>0.838215</td>\n",
       "      <td>0.538764</td>\n",
       "      <td>0.339175</td>\n",
       "      <td>0.296753</td>\n",
       "    </tr>\n",
       "    <tr>\n",
       "      <th>333</th>\n",
       "      <td>0.875011</td>\n",
       "      <td>0.898489</td>\n",
       "      <td>0.911705</td>\n",
       "      <td>0.943656</td>\n",
       "      <td>0.416888</td>\n",
       "    </tr>\n",
       "  </tbody>\n",
       "</table>\n",
       "<p>334 rows × 5 columns</p>\n",
       "</div>"
      ],
      "text/plain": [
       "            0         1         2         3         4\n",
       "0    0.373841  0.133593  0.827758  0.332850  0.815619\n",
       "1    0.223381  0.673758  0.708266  0.918993  0.229196\n",
       "2    0.735779  0.986118  0.126935  0.685023  0.050855\n",
       "3    0.331808  0.607073  0.507821  0.953118  0.656889\n",
       "4    0.433670  0.947273  0.162297  0.420103  0.655472\n",
       "..        ...       ...       ...       ...       ...\n",
       "329  0.942466  0.445416  0.966202  0.295537  0.293268\n",
       "330  0.387183  0.186650  0.753521  0.025815  0.721198\n",
       "331  0.445693  0.522044  0.357614  0.175042  0.052485\n",
       "332  0.134392  0.838215  0.538764  0.339175  0.296753\n",
       "333  0.875011  0.898489  0.911705  0.943656  0.416888\n",
       "\n",
       "[334 rows x 5 columns]"
      ]
     },
     "execution_count": 66,
     "metadata": {},
     "output_type": "execute_result"
    }
   ],
   "source": [
    "newdf"
   ]
  },
  {
   "cell_type": "code",
   "execution_count": 67,
   "id": "a9bbf925",
   "metadata": {},
   "outputs": [
    {
     "data": {
      "text/plain": [
       "pandas.core.frame.DataFrame"
      ]
     },
     "execution_count": 67,
     "metadata": {},
     "output_type": "execute_result"
    }
   ],
   "source": [
    "type(newdf)"
   ]
  },
  {
   "cell_type": "code",
   "execution_count": 68,
   "id": "53d85136",
   "metadata": {},
   "outputs": [],
   "source": [
    "newdf[0][0]=\"bibek\""
   ]
  },
  {
   "cell_type": "code",
   "execution_count": 70,
   "id": "4c9ccf4a",
   "metadata": {},
   "outputs": [
    {
     "data": {
      "text/plain": [
       "0     object\n",
       "1    float64\n",
       "2    float64\n",
       "3    float64\n",
       "4    float64\n",
       "dtype: object"
      ]
     },
     "execution_count": 70,
     "metadata": {},
     "output_type": "execute_result"
    }
   ],
   "source": [
    "newdf.dtypes"
   ]
  },
  {
   "cell_type": "code",
   "execution_count": 71,
   "id": "cf05f7f5",
   "metadata": {},
   "outputs": [
    {
     "data": {
      "text/html": [
       "<div>\n",
       "<style scoped>\n",
       "    .dataframe tbody tr th:only-of-type {\n",
       "        vertical-align: middle;\n",
       "    }\n",
       "\n",
       "    .dataframe tbody tr th {\n",
       "        vertical-align: top;\n",
       "    }\n",
       "\n",
       "    .dataframe thead th {\n",
       "        text-align: right;\n",
       "    }\n",
       "</style>\n",
       "<table border=\"1\" class=\"dataframe\">\n",
       "  <thead>\n",
       "    <tr style=\"text-align: right;\">\n",
       "      <th></th>\n",
       "      <th>0</th>\n",
       "      <th>1</th>\n",
       "      <th>2</th>\n",
       "      <th>3</th>\n",
       "      <th>4</th>\n",
       "    </tr>\n",
       "  </thead>\n",
       "  <tbody>\n",
       "    <tr>\n",
       "      <th>0</th>\n",
       "      <td>bibek</td>\n",
       "      <td>0.133593</td>\n",
       "      <td>0.827758</td>\n",
       "      <td>0.332850</td>\n",
       "      <td>0.815619</td>\n",
       "    </tr>\n",
       "    <tr>\n",
       "      <th>1</th>\n",
       "      <td>0.223381</td>\n",
       "      <td>0.673758</td>\n",
       "      <td>0.708266</td>\n",
       "      <td>0.918993</td>\n",
       "      <td>0.229196</td>\n",
       "    </tr>\n",
       "    <tr>\n",
       "      <th>2</th>\n",
       "      <td>0.735779</td>\n",
       "      <td>0.986118</td>\n",
       "      <td>0.126935</td>\n",
       "      <td>0.685023</td>\n",
       "      <td>0.050855</td>\n",
       "    </tr>\n",
       "    <tr>\n",
       "      <th>3</th>\n",
       "      <td>0.331808</td>\n",
       "      <td>0.607073</td>\n",
       "      <td>0.507821</td>\n",
       "      <td>0.953118</td>\n",
       "      <td>0.656889</td>\n",
       "    </tr>\n",
       "    <tr>\n",
       "      <th>4</th>\n",
       "      <td>0.43367</td>\n",
       "      <td>0.947273</td>\n",
       "      <td>0.162297</td>\n",
       "      <td>0.420103</td>\n",
       "      <td>0.655472</td>\n",
       "    </tr>\n",
       "    <tr>\n",
       "      <th>...</th>\n",
       "      <td>...</td>\n",
       "      <td>...</td>\n",
       "      <td>...</td>\n",
       "      <td>...</td>\n",
       "      <td>...</td>\n",
       "    </tr>\n",
       "    <tr>\n",
       "      <th>329</th>\n",
       "      <td>0.942466</td>\n",
       "      <td>0.445416</td>\n",
       "      <td>0.966202</td>\n",
       "      <td>0.295537</td>\n",
       "      <td>0.293268</td>\n",
       "    </tr>\n",
       "    <tr>\n",
       "      <th>330</th>\n",
       "      <td>0.387183</td>\n",
       "      <td>0.186650</td>\n",
       "      <td>0.753521</td>\n",
       "      <td>0.025815</td>\n",
       "      <td>0.721198</td>\n",
       "    </tr>\n",
       "    <tr>\n",
       "      <th>331</th>\n",
       "      <td>0.445693</td>\n",
       "      <td>0.522044</td>\n",
       "      <td>0.357614</td>\n",
       "      <td>0.175042</td>\n",
       "      <td>0.052485</td>\n",
       "    </tr>\n",
       "    <tr>\n",
       "      <th>332</th>\n",
       "      <td>0.134392</td>\n",
       "      <td>0.838215</td>\n",
       "      <td>0.538764</td>\n",
       "      <td>0.339175</td>\n",
       "      <td>0.296753</td>\n",
       "    </tr>\n",
       "    <tr>\n",
       "      <th>333</th>\n",
       "      <td>0.875011</td>\n",
       "      <td>0.898489</td>\n",
       "      <td>0.911705</td>\n",
       "      <td>0.943656</td>\n",
       "      <td>0.416888</td>\n",
       "    </tr>\n",
       "  </tbody>\n",
       "</table>\n",
       "<p>334 rows × 5 columns</p>\n",
       "</div>"
      ],
      "text/plain": [
       "            0         1         2         3         4\n",
       "0       bibek  0.133593  0.827758  0.332850  0.815619\n",
       "1    0.223381  0.673758  0.708266  0.918993  0.229196\n",
       "2    0.735779  0.986118  0.126935  0.685023  0.050855\n",
       "3    0.331808  0.607073  0.507821  0.953118  0.656889\n",
       "4     0.43367  0.947273  0.162297  0.420103  0.655472\n",
       "..        ...       ...       ...       ...       ...\n",
       "329  0.942466  0.445416  0.966202  0.295537  0.293268\n",
       "330  0.387183  0.186650  0.753521  0.025815  0.721198\n",
       "331  0.445693  0.522044  0.357614  0.175042  0.052485\n",
       "332  0.134392  0.838215  0.538764  0.339175  0.296753\n",
       "333  0.875011  0.898489  0.911705  0.943656  0.416888\n",
       "\n",
       "[334 rows x 5 columns]"
      ]
     },
     "execution_count": 71,
     "metadata": {},
     "output_type": "execute_result"
    }
   ],
   "source": [
    "newdf"
   ]
  },
  {
   "cell_type": "code",
   "execution_count": 72,
   "id": "a0695019",
   "metadata": {},
   "outputs": [
    {
     "data": {
      "text/html": [
       "<div>\n",
       "<style scoped>\n",
       "    .dataframe tbody tr th:only-of-type {\n",
       "        vertical-align: middle;\n",
       "    }\n",
       "\n",
       "    .dataframe tbody tr th {\n",
       "        vertical-align: top;\n",
       "    }\n",
       "\n",
       "    .dataframe thead th {\n",
       "        text-align: right;\n",
       "    }\n",
       "</style>\n",
       "<table border=\"1\" class=\"dataframe\">\n",
       "  <thead>\n",
       "    <tr style=\"text-align: right;\">\n",
       "      <th></th>\n",
       "      <th>0</th>\n",
       "      <th>1</th>\n",
       "      <th>2</th>\n",
       "      <th>3</th>\n",
       "      <th>4</th>\n",
       "    </tr>\n",
       "  </thead>\n",
       "  <tbody>\n",
       "    <tr>\n",
       "      <th>0</th>\n",
       "      <td>bibek</td>\n",
       "      <td>0.133593</td>\n",
       "      <td>0.827758</td>\n",
       "      <td>0.332850</td>\n",
       "      <td>0.815619</td>\n",
       "    </tr>\n",
       "    <tr>\n",
       "      <th>1</th>\n",
       "      <td>0.223381</td>\n",
       "      <td>0.673758</td>\n",
       "      <td>0.708266</td>\n",
       "      <td>0.918993</td>\n",
       "      <td>0.229196</td>\n",
       "    </tr>\n",
       "    <tr>\n",
       "      <th>2</th>\n",
       "      <td>0.735779</td>\n",
       "      <td>0.986118</td>\n",
       "      <td>0.126935</td>\n",
       "      <td>0.685023</td>\n",
       "      <td>0.050855</td>\n",
       "    </tr>\n",
       "    <tr>\n",
       "      <th>3</th>\n",
       "      <td>0.331808</td>\n",
       "      <td>0.607073</td>\n",
       "      <td>0.507821</td>\n",
       "      <td>0.953118</td>\n",
       "      <td>0.656889</td>\n",
       "    </tr>\n",
       "    <tr>\n",
       "      <th>4</th>\n",
       "      <td>0.43367</td>\n",
       "      <td>0.947273</td>\n",
       "      <td>0.162297</td>\n",
       "      <td>0.420103</td>\n",
       "      <td>0.655472</td>\n",
       "    </tr>\n",
       "  </tbody>\n",
       "</table>\n",
       "</div>"
      ],
      "text/plain": [
       "          0         1         2         3         4\n",
       "0     bibek  0.133593  0.827758  0.332850  0.815619\n",
       "1  0.223381  0.673758  0.708266  0.918993  0.229196\n",
       "2  0.735779  0.986118  0.126935  0.685023  0.050855\n",
       "3  0.331808  0.607073  0.507821  0.953118  0.656889\n",
       "4   0.43367  0.947273  0.162297  0.420103  0.655472"
      ]
     },
     "execution_count": 72,
     "metadata": {},
     "output_type": "execute_result"
    }
   ],
   "source": [
    "newdf.head()"
   ]
  },
  {
   "cell_type": "code",
   "execution_count": 74,
   "id": "7add6ba1",
   "metadata": {},
   "outputs": [
    {
     "data": {
      "text/plain": [
       "Int64Index([  0,   1,   2,   3,   4,   5,   6,   7,   8,   9,\n",
       "            ...\n",
       "            324, 325, 326, 327, 328, 329, 330, 331, 332, 333],\n",
       "           dtype='int64', length=334)"
      ]
     },
     "execution_count": 74,
     "metadata": {},
     "output_type": "execute_result"
    }
   ],
   "source": [
    "newdf.index"
   ]
  },
  {
   "cell_type": "code",
   "execution_count": 76,
   "id": "0cbea30b",
   "metadata": {},
   "outputs": [
    {
     "data": {
      "text/plain": [
       "RangeIndex(start=0, stop=5, step=1)"
      ]
     },
     "execution_count": 76,
     "metadata": {},
     "output_type": "execute_result"
    }
   ],
   "source": [
    "newdf.columns"
   ]
  },
  {
   "cell_type": "code",
   "execution_count": 77,
   "id": "168506cd",
   "metadata": {},
   "outputs": [],
   "source": [
    "newdf[0][0]=0.4"
   ]
  },
  {
   "cell_type": "code",
   "execution_count": 78,
   "id": "c633dc04",
   "metadata": {},
   "outputs": [
    {
     "data": {
      "text/html": [
       "<div>\n",
       "<style scoped>\n",
       "    .dataframe tbody tr th:only-of-type {\n",
       "        vertical-align: middle;\n",
       "    }\n",
       "\n",
       "    .dataframe tbody tr th {\n",
       "        vertical-align: top;\n",
       "    }\n",
       "\n",
       "    .dataframe thead th {\n",
       "        text-align: right;\n",
       "    }\n",
       "</style>\n",
       "<table border=\"1\" class=\"dataframe\">\n",
       "  <thead>\n",
       "    <tr style=\"text-align: right;\">\n",
       "      <th></th>\n",
       "      <th>0</th>\n",
       "      <th>1</th>\n",
       "      <th>2</th>\n",
       "      <th>3</th>\n",
       "      <th>4</th>\n",
       "    </tr>\n",
       "  </thead>\n",
       "  <tbody>\n",
       "    <tr>\n",
       "      <th>0</th>\n",
       "      <td>0.4</td>\n",
       "      <td>0.133593</td>\n",
       "      <td>0.827758</td>\n",
       "      <td>0.332850</td>\n",
       "      <td>0.815619</td>\n",
       "    </tr>\n",
       "    <tr>\n",
       "      <th>1</th>\n",
       "      <td>0.223381</td>\n",
       "      <td>0.673758</td>\n",
       "      <td>0.708266</td>\n",
       "      <td>0.918993</td>\n",
       "      <td>0.229196</td>\n",
       "    </tr>\n",
       "    <tr>\n",
       "      <th>2</th>\n",
       "      <td>0.735779</td>\n",
       "      <td>0.986118</td>\n",
       "      <td>0.126935</td>\n",
       "      <td>0.685023</td>\n",
       "      <td>0.050855</td>\n",
       "    </tr>\n",
       "    <tr>\n",
       "      <th>3</th>\n",
       "      <td>0.331808</td>\n",
       "      <td>0.607073</td>\n",
       "      <td>0.507821</td>\n",
       "      <td>0.953118</td>\n",
       "      <td>0.656889</td>\n",
       "    </tr>\n",
       "    <tr>\n",
       "      <th>4</th>\n",
       "      <td>0.43367</td>\n",
       "      <td>0.947273</td>\n",
       "      <td>0.162297</td>\n",
       "      <td>0.420103</td>\n",
       "      <td>0.655472</td>\n",
       "    </tr>\n",
       "    <tr>\n",
       "      <th>...</th>\n",
       "      <td>...</td>\n",
       "      <td>...</td>\n",
       "      <td>...</td>\n",
       "      <td>...</td>\n",
       "      <td>...</td>\n",
       "    </tr>\n",
       "    <tr>\n",
       "      <th>329</th>\n",
       "      <td>0.942466</td>\n",
       "      <td>0.445416</td>\n",
       "      <td>0.966202</td>\n",
       "      <td>0.295537</td>\n",
       "      <td>0.293268</td>\n",
       "    </tr>\n",
       "    <tr>\n",
       "      <th>330</th>\n",
       "      <td>0.387183</td>\n",
       "      <td>0.186650</td>\n",
       "      <td>0.753521</td>\n",
       "      <td>0.025815</td>\n",
       "      <td>0.721198</td>\n",
       "    </tr>\n",
       "    <tr>\n",
       "      <th>331</th>\n",
       "      <td>0.445693</td>\n",
       "      <td>0.522044</td>\n",
       "      <td>0.357614</td>\n",
       "      <td>0.175042</td>\n",
       "      <td>0.052485</td>\n",
       "    </tr>\n",
       "    <tr>\n",
       "      <th>332</th>\n",
       "      <td>0.134392</td>\n",
       "      <td>0.838215</td>\n",
       "      <td>0.538764</td>\n",
       "      <td>0.339175</td>\n",
       "      <td>0.296753</td>\n",
       "    </tr>\n",
       "    <tr>\n",
       "      <th>333</th>\n",
       "      <td>0.875011</td>\n",
       "      <td>0.898489</td>\n",
       "      <td>0.911705</td>\n",
       "      <td>0.943656</td>\n",
       "      <td>0.416888</td>\n",
       "    </tr>\n",
       "  </tbody>\n",
       "</table>\n",
       "<p>334 rows × 5 columns</p>\n",
       "</div>"
      ],
      "text/plain": [
       "            0         1         2         3         4\n",
       "0         0.4  0.133593  0.827758  0.332850  0.815619\n",
       "1    0.223381  0.673758  0.708266  0.918993  0.229196\n",
       "2    0.735779  0.986118  0.126935  0.685023  0.050855\n",
       "3    0.331808  0.607073  0.507821  0.953118  0.656889\n",
       "4     0.43367  0.947273  0.162297  0.420103  0.655472\n",
       "..        ...       ...       ...       ...       ...\n",
       "329  0.942466  0.445416  0.966202  0.295537  0.293268\n",
       "330  0.387183  0.186650  0.753521  0.025815  0.721198\n",
       "331  0.445693  0.522044  0.357614  0.175042  0.052485\n",
       "332  0.134392  0.838215  0.538764  0.339175  0.296753\n",
       "333  0.875011  0.898489  0.911705  0.943656  0.416888\n",
       "\n",
       "[334 rows x 5 columns]"
      ]
     },
     "execution_count": 78,
     "metadata": {},
     "output_type": "execute_result"
    }
   ],
   "source": [
    "newdf"
   ]
  },
  {
   "cell_type": "code",
   "execution_count": 79,
   "id": "f2187433",
   "metadata": {},
   "outputs": [
    {
     "data": {
      "text/plain": [
       "0           0.4\n",
       "1      0.223381\n",
       "2      0.735779\n",
       "3      0.331808\n",
       "4       0.43367\n",
       "         ...   \n",
       "329    0.942466\n",
       "330    0.387183\n",
       "331    0.445693\n",
       "332    0.134392\n",
       "333    0.875011\n",
       "Name: 0, Length: 334, dtype: object"
      ]
     },
     "execution_count": 79,
     "metadata": {},
     "output_type": "execute_result"
    }
   ],
   "source": [
    "newdf[0]"
   ]
  },
  {
   "cell_type": "code",
   "execution_count": 84,
   "id": "0e73877b",
   "metadata": {},
   "outputs": [
    {
     "data": {
      "text/plain": [
       "pandas.core.series.Series"
      ]
     },
     "execution_count": 84,
     "metadata": {},
     "output_type": "execute_result"
    }
   ],
   "source": [
    "type(newdf[0])"
   ]
  },
  {
   "cell_type": "code",
   "execution_count": 87,
   "id": "1f886312",
   "metadata": {},
   "outputs": [],
   "source": [
    "newdf2 = newdf"
   ]
  },
  {
   "cell_type": "code",
   "execution_count": 88,
   "id": "2c033299",
   "metadata": {},
   "outputs": [
    {
     "data": {
      "text/html": [
       "<div>\n",
       "<style scoped>\n",
       "    .dataframe tbody tr th:only-of-type {\n",
       "        vertical-align: middle;\n",
       "    }\n",
       "\n",
       "    .dataframe tbody tr th {\n",
       "        vertical-align: top;\n",
       "    }\n",
       "\n",
       "    .dataframe thead th {\n",
       "        text-align: right;\n",
       "    }\n",
       "</style>\n",
       "<table border=\"1\" class=\"dataframe\">\n",
       "  <thead>\n",
       "    <tr style=\"text-align: right;\">\n",
       "      <th></th>\n",
       "      <th>0</th>\n",
       "      <th>1</th>\n",
       "      <th>2</th>\n",
       "      <th>3</th>\n",
       "      <th>4</th>\n",
       "    </tr>\n",
       "  </thead>\n",
       "  <tbody>\n",
       "    <tr>\n",
       "      <th>0</th>\n",
       "      <td>0.4</td>\n",
       "      <td>0.133593</td>\n",
       "      <td>0.827758</td>\n",
       "      <td>0.332850</td>\n",
       "      <td>0.815619</td>\n",
       "    </tr>\n",
       "    <tr>\n",
       "      <th>1</th>\n",
       "      <td>0.223381</td>\n",
       "      <td>0.673758</td>\n",
       "      <td>0.708266</td>\n",
       "      <td>0.918993</td>\n",
       "      <td>0.229196</td>\n",
       "    </tr>\n",
       "    <tr>\n",
       "      <th>2</th>\n",
       "      <td>0.735779</td>\n",
       "      <td>0.986118</td>\n",
       "      <td>0.126935</td>\n",
       "      <td>0.685023</td>\n",
       "      <td>0.050855</td>\n",
       "    </tr>\n",
       "    <tr>\n",
       "      <th>3</th>\n",
       "      <td>0.331808</td>\n",
       "      <td>0.607073</td>\n",
       "      <td>0.507821</td>\n",
       "      <td>0.953118</td>\n",
       "      <td>0.656889</td>\n",
       "    </tr>\n",
       "    <tr>\n",
       "      <th>4</th>\n",
       "      <td>0.43367</td>\n",
       "      <td>0.947273</td>\n",
       "      <td>0.162297</td>\n",
       "      <td>0.420103</td>\n",
       "      <td>0.655472</td>\n",
       "    </tr>\n",
       "  </tbody>\n",
       "</table>\n",
       "</div>"
      ],
      "text/plain": [
       "          0         1         2         3         4\n",
       "0       0.4  0.133593  0.827758  0.332850  0.815619\n",
       "1  0.223381  0.673758  0.708266  0.918993  0.229196\n",
       "2  0.735779  0.986118  0.126935  0.685023  0.050855\n",
       "3  0.331808  0.607073  0.507821  0.953118  0.656889\n",
       "4   0.43367  0.947273  0.162297  0.420103  0.655472"
      ]
     },
     "execution_count": 88,
     "metadata": {},
     "output_type": "execute_result"
    }
   ],
   "source": [
    "newdf2.head()"
   ]
  },
  {
   "cell_type": "code",
   "execution_count": 89,
   "id": "1ea7ce05",
   "metadata": {},
   "outputs": [],
   "source": [
    "newdf2[0][0]=54"
   ]
  },
  {
   "cell_type": "code",
   "execution_count": 91,
   "id": "fe66c427",
   "metadata": {},
   "outputs": [
    {
     "data": {
      "text/html": [
       "<div>\n",
       "<style scoped>\n",
       "    .dataframe tbody tr th:only-of-type {\n",
       "        vertical-align: middle;\n",
       "    }\n",
       "\n",
       "    .dataframe tbody tr th {\n",
       "        vertical-align: top;\n",
       "    }\n",
       "\n",
       "    .dataframe thead th {\n",
       "        text-align: right;\n",
       "    }\n",
       "</style>\n",
       "<table border=\"1\" class=\"dataframe\">\n",
       "  <thead>\n",
       "    <tr style=\"text-align: right;\">\n",
       "      <th></th>\n",
       "      <th>0</th>\n",
       "      <th>1</th>\n",
       "      <th>2</th>\n",
       "      <th>3</th>\n",
       "      <th>4</th>\n",
       "    </tr>\n",
       "  </thead>\n",
       "  <tbody>\n",
       "    <tr>\n",
       "      <th>0</th>\n",
       "      <td>54</td>\n",
       "      <td>0.133593</td>\n",
       "      <td>0.827758</td>\n",
       "      <td>0.332850</td>\n",
       "      <td>0.815619</td>\n",
       "    </tr>\n",
       "    <tr>\n",
       "      <th>1</th>\n",
       "      <td>0.223381</td>\n",
       "      <td>0.673758</td>\n",
       "      <td>0.708266</td>\n",
       "      <td>0.918993</td>\n",
       "      <td>0.229196</td>\n",
       "    </tr>\n",
       "    <tr>\n",
       "      <th>2</th>\n",
       "      <td>0.735779</td>\n",
       "      <td>0.986118</td>\n",
       "      <td>0.126935</td>\n",
       "      <td>0.685023</td>\n",
       "      <td>0.050855</td>\n",
       "    </tr>\n",
       "    <tr>\n",
       "      <th>3</th>\n",
       "      <td>0.331808</td>\n",
       "      <td>0.607073</td>\n",
       "      <td>0.507821</td>\n",
       "      <td>0.953118</td>\n",
       "      <td>0.656889</td>\n",
       "    </tr>\n",
       "    <tr>\n",
       "      <th>4</th>\n",
       "      <td>0.43367</td>\n",
       "      <td>0.947273</td>\n",
       "      <td>0.162297</td>\n",
       "      <td>0.420103</td>\n",
       "      <td>0.655472</td>\n",
       "    </tr>\n",
       "  </tbody>\n",
       "</table>\n",
       "</div>"
      ],
      "text/plain": [
       "          0         1         2         3         4\n",
       "0        54  0.133593  0.827758  0.332850  0.815619\n",
       "1  0.223381  0.673758  0.708266  0.918993  0.229196\n",
       "2  0.735779  0.986118  0.126935  0.685023  0.050855\n",
       "3  0.331808  0.607073  0.507821  0.953118  0.656889\n",
       "4   0.43367  0.947273  0.162297  0.420103  0.655472"
      ]
     },
     "execution_count": 91,
     "metadata": {},
     "output_type": "execute_result"
    }
   ],
   "source": [
    "newdf.head()"
   ]
  },
  {
   "cell_type": "code",
   "execution_count": 102,
   "id": "91dea3e6",
   "metadata": {},
   "outputs": [
    {
     "data": {
      "text/html": [
       "<div>\n",
       "<style scoped>\n",
       "    .dataframe tbody tr th:only-of-type {\n",
       "        vertical-align: middle;\n",
       "    }\n",
       "\n",
       "    .dataframe tbody tr th {\n",
       "        vertical-align: top;\n",
       "    }\n",
       "\n",
       "    .dataframe thead th {\n",
       "        text-align: right;\n",
       "    }\n",
       "</style>\n",
       "<table border=\"1\" class=\"dataframe\">\n",
       "  <thead>\n",
       "    <tr style=\"text-align: right;\">\n",
       "      <th></th>\n",
       "      <th>0</th>\n",
       "      <th>1</th>\n",
       "      <th>2</th>\n",
       "      <th>3</th>\n",
       "      <th>4</th>\n",
       "    </tr>\n",
       "  </thead>\n",
       "  <tbody>\n",
       "    <tr>\n",
       "      <th>1</th>\n",
       "      <td>0.223381</td>\n",
       "      <td>0.673758</td>\n",
       "      <td>0.708266</td>\n",
       "      <td>0.918993</td>\n",
       "      <td>0.229196</td>\n",
       "    </tr>\n",
       "    <tr>\n",
       "      <th>9</th>\n",
       "      <td>0.257268</td>\n",
       "      <td>0.702273</td>\n",
       "      <td>0.529037</td>\n",
       "      <td>0.814035</td>\n",
       "      <td>0.269544</td>\n",
       "    </tr>\n",
       "    <tr>\n",
       "      <th>11</th>\n",
       "      <td>0.018802</td>\n",
       "      <td>0.736417</td>\n",
       "      <td>0.649349</td>\n",
       "      <td>0.514179</td>\n",
       "      <td>0.858137</td>\n",
       "    </tr>\n",
       "    <tr>\n",
       "      <th>16</th>\n",
       "      <td>0.248457</td>\n",
       "      <td>0.929227</td>\n",
       "      <td>0.738626</td>\n",
       "      <td>0.672995</td>\n",
       "      <td>0.886142</td>\n",
       "    </tr>\n",
       "    <tr>\n",
       "      <th>30</th>\n",
       "      <td>0.134174</td>\n",
       "      <td>0.610533</td>\n",
       "      <td>0.953266</td>\n",
       "      <td>0.590598</td>\n",
       "      <td>0.925234</td>\n",
       "    </tr>\n",
       "  </tbody>\n",
       "</table>\n",
       "</div>"
      ],
      "text/plain": [
       "           0         1         2         3         4\n",
       "1   0.223381  0.673758  0.708266  0.918993  0.229196\n",
       "9   0.257268  0.702273  0.529037  0.814035  0.269544\n",
       "11  0.018802  0.736417  0.649349  0.514179  0.858137\n",
       "16  0.248457  0.929227  0.738626  0.672995  0.886142\n",
       "30  0.134174  0.610533  0.953266  0.590598  0.925234"
      ]
     },
     "execution_count": 102,
     "metadata": {},
     "output_type": "execute_result"
    }
   ],
   "source": [
    "newdf.loc[(newdf[0]<0.3) & (newdf[1]>0.3)].head()"
   ]
  },
  {
   "cell_type": "code",
   "execution_count": 104,
   "id": "6810583d",
   "metadata": {},
   "outputs": [
    {
     "data": {
      "text/html": [
       "<div>\n",
       "<style scoped>\n",
       "    .dataframe tbody tr th:only-of-type {\n",
       "        vertical-align: middle;\n",
       "    }\n",
       "\n",
       "    .dataframe tbody tr th {\n",
       "        vertical-align: top;\n",
       "    }\n",
       "\n",
       "    .dataframe thead th {\n",
       "        text-align: right;\n",
       "    }\n",
       "</style>\n",
       "<table border=\"1\" class=\"dataframe\">\n",
       "  <thead>\n",
       "    <tr style=\"text-align: right;\">\n",
       "      <th></th>\n",
       "      <th>0</th>\n",
       "      <th>1</th>\n",
       "      <th>2</th>\n",
       "      <th>3</th>\n",
       "      <th>4</th>\n",
       "    </tr>\n",
       "  </thead>\n",
       "  <tbody>\n",
       "    <tr>\n",
       "      <th>0</th>\n",
       "      <td>54</td>\n",
       "      <td>0.133593</td>\n",
       "      <td>0.827758</td>\n",
       "      <td>0.332850</td>\n",
       "      <td>0.815619</td>\n",
       "    </tr>\n",
       "    <tr>\n",
       "      <th>1</th>\n",
       "      <td>0.223381</td>\n",
       "      <td>0.673758</td>\n",
       "      <td>0.708266</td>\n",
       "      <td>0.918993</td>\n",
       "      <td>0.229196</td>\n",
       "    </tr>\n",
       "    <tr>\n",
       "      <th>2</th>\n",
       "      <td>0.735779</td>\n",
       "      <td>0.986118</td>\n",
       "      <td>0.126935</td>\n",
       "      <td>0.685023</td>\n",
       "      <td>0.050855</td>\n",
       "    </tr>\n",
       "    <tr>\n",
       "      <th>3</th>\n",
       "      <td>0.331808</td>\n",
       "      <td>0.607073</td>\n",
       "      <td>0.507821</td>\n",
       "      <td>0.953118</td>\n",
       "      <td>0.656889</td>\n",
       "    </tr>\n",
       "    <tr>\n",
       "      <th>5</th>\n",
       "      <td>0.847509</td>\n",
       "      <td>0.331488</td>\n",
       "      <td>0.395940</td>\n",
       "      <td>0.600708</td>\n",
       "      <td>0.250094</td>\n",
       "    </tr>\n",
       "  </tbody>\n",
       "</table>\n",
       "</div>"
      ],
      "text/plain": [
       "          0         1         2         3         4\n",
       "0        54  0.133593  0.827758  0.332850  0.815619\n",
       "1  0.223381  0.673758  0.708266  0.918993  0.229196\n",
       "2  0.735779  0.986118  0.126935  0.685023  0.050855\n",
       "3  0.331808  0.607073  0.507821  0.953118  0.656889\n",
       "5  0.847509  0.331488  0.395940  0.600708  0.250094"
      ]
     },
     "execution_count": 104,
     "metadata": {},
     "output_type": "execute_result"
    }
   ],
   "source": [
    "newdf.drop([4],axis=0).head()"
   ]
  },
  {
   "cell_type": "code",
   "execution_count": 105,
   "id": "cbe5c1cd",
   "metadata": {},
   "outputs": [
    {
     "data": {
      "text/html": [
       "<div>\n",
       "<style scoped>\n",
       "    .dataframe tbody tr th:only-of-type {\n",
       "        vertical-align: middle;\n",
       "    }\n",
       "\n",
       "    .dataframe tbody tr th {\n",
       "        vertical-align: top;\n",
       "    }\n",
       "\n",
       "    .dataframe thead th {\n",
       "        text-align: right;\n",
       "    }\n",
       "</style>\n",
       "<table border=\"1\" class=\"dataframe\">\n",
       "  <thead>\n",
       "    <tr style=\"text-align: right;\">\n",
       "      <th></th>\n",
       "      <th>0</th>\n",
       "      <th>1</th>\n",
       "      <th>2</th>\n",
       "      <th>3</th>\n",
       "    </tr>\n",
       "  </thead>\n",
       "  <tbody>\n",
       "    <tr>\n",
       "      <th>0</th>\n",
       "      <td>54</td>\n",
       "      <td>0.133593</td>\n",
       "      <td>0.827758</td>\n",
       "      <td>0.332850</td>\n",
       "    </tr>\n",
       "    <tr>\n",
       "      <th>1</th>\n",
       "      <td>0.223381</td>\n",
       "      <td>0.673758</td>\n",
       "      <td>0.708266</td>\n",
       "      <td>0.918993</td>\n",
       "    </tr>\n",
       "    <tr>\n",
       "      <th>2</th>\n",
       "      <td>0.735779</td>\n",
       "      <td>0.986118</td>\n",
       "      <td>0.126935</td>\n",
       "      <td>0.685023</td>\n",
       "    </tr>\n",
       "    <tr>\n",
       "      <th>3</th>\n",
       "      <td>0.331808</td>\n",
       "      <td>0.607073</td>\n",
       "      <td>0.507821</td>\n",
       "      <td>0.953118</td>\n",
       "    </tr>\n",
       "    <tr>\n",
       "      <th>4</th>\n",
       "      <td>0.43367</td>\n",
       "      <td>0.947273</td>\n",
       "      <td>0.162297</td>\n",
       "      <td>0.420103</td>\n",
       "    </tr>\n",
       "  </tbody>\n",
       "</table>\n",
       "</div>"
      ],
      "text/plain": [
       "          0         1         2         3\n",
       "0        54  0.133593  0.827758  0.332850\n",
       "1  0.223381  0.673758  0.708266  0.918993\n",
       "2  0.735779  0.986118  0.126935  0.685023\n",
       "3  0.331808  0.607073  0.507821  0.953118\n",
       "4   0.43367  0.947273  0.162297  0.420103"
      ]
     },
     "execution_count": 105,
     "metadata": {},
     "output_type": "execute_result"
    }
   ],
   "source": [
    "newdf.drop([4],axis=1).head()"
   ]
  },
  {
   "cell_type": "code",
   "execution_count": 106,
   "id": "fb1acd7c",
   "metadata": {},
   "outputs": [
    {
     "data": {
      "text/html": [
       "<div>\n",
       "<style scoped>\n",
       "    .dataframe tbody tr th:only-of-type {\n",
       "        vertical-align: middle;\n",
       "    }\n",
       "\n",
       "    .dataframe tbody tr th {\n",
       "        vertical-align: top;\n",
       "    }\n",
       "\n",
       "    .dataframe thead th {\n",
       "        text-align: right;\n",
       "    }\n",
       "</style>\n",
       "<table border=\"1\" class=\"dataframe\">\n",
       "  <thead>\n",
       "    <tr style=\"text-align: right;\">\n",
       "      <th></th>\n",
       "      <th>0</th>\n",
       "      <th>1</th>\n",
       "      <th>2</th>\n",
       "      <th>3</th>\n",
       "      <th>4</th>\n",
       "    </tr>\n",
       "  </thead>\n",
       "  <tbody>\n",
       "    <tr>\n",
       "      <th>0</th>\n",
       "      <td>54</td>\n",
       "      <td>0.133593</td>\n",
       "      <td>0.827758</td>\n",
       "      <td>0.332850</td>\n",
       "      <td>0.815619</td>\n",
       "    </tr>\n",
       "    <tr>\n",
       "      <th>1</th>\n",
       "      <td>0.223381</td>\n",
       "      <td>0.673758</td>\n",
       "      <td>0.708266</td>\n",
       "      <td>0.918993</td>\n",
       "      <td>0.229196</td>\n",
       "    </tr>\n",
       "    <tr>\n",
       "      <th>2</th>\n",
       "      <td>0.735779</td>\n",
       "      <td>0.986118</td>\n",
       "      <td>0.126935</td>\n",
       "      <td>0.685023</td>\n",
       "      <td>0.050855</td>\n",
       "    </tr>\n",
       "    <tr>\n",
       "      <th>3</th>\n",
       "      <td>0.331808</td>\n",
       "      <td>0.607073</td>\n",
       "      <td>0.507821</td>\n",
       "      <td>0.953118</td>\n",
       "      <td>0.656889</td>\n",
       "    </tr>\n",
       "    <tr>\n",
       "      <th>4</th>\n",
       "      <td>0.43367</td>\n",
       "      <td>0.947273</td>\n",
       "      <td>0.162297</td>\n",
       "      <td>0.420103</td>\n",
       "      <td>0.655472</td>\n",
       "    </tr>\n",
       "    <tr>\n",
       "      <th>...</th>\n",
       "      <td>...</td>\n",
       "      <td>...</td>\n",
       "      <td>...</td>\n",
       "      <td>...</td>\n",
       "      <td>...</td>\n",
       "    </tr>\n",
       "    <tr>\n",
       "      <th>329</th>\n",
       "      <td>0.942466</td>\n",
       "      <td>0.445416</td>\n",
       "      <td>0.966202</td>\n",
       "      <td>0.295537</td>\n",
       "      <td>0.293268</td>\n",
       "    </tr>\n",
       "    <tr>\n",
       "      <th>330</th>\n",
       "      <td>0.387183</td>\n",
       "      <td>0.186650</td>\n",
       "      <td>0.753521</td>\n",
       "      <td>0.025815</td>\n",
       "      <td>0.721198</td>\n",
       "    </tr>\n",
       "    <tr>\n",
       "      <th>331</th>\n",
       "      <td>0.445693</td>\n",
       "      <td>0.522044</td>\n",
       "      <td>0.357614</td>\n",
       "      <td>0.175042</td>\n",
       "      <td>0.052485</td>\n",
       "    </tr>\n",
       "    <tr>\n",
       "      <th>332</th>\n",
       "      <td>0.134392</td>\n",
       "      <td>0.838215</td>\n",
       "      <td>0.538764</td>\n",
       "      <td>0.339175</td>\n",
       "      <td>0.296753</td>\n",
       "    </tr>\n",
       "    <tr>\n",
       "      <th>333</th>\n",
       "      <td>0.875011</td>\n",
       "      <td>0.898489</td>\n",
       "      <td>0.911705</td>\n",
       "      <td>0.943656</td>\n",
       "      <td>0.416888</td>\n",
       "    </tr>\n",
       "  </tbody>\n",
       "</table>\n",
       "<p>334 rows × 5 columns</p>\n",
       "</div>"
      ],
      "text/plain": [
       "            0         1         2         3         4\n",
       "0          54  0.133593  0.827758  0.332850  0.815619\n",
       "1    0.223381  0.673758  0.708266  0.918993  0.229196\n",
       "2    0.735779  0.986118  0.126935  0.685023  0.050855\n",
       "3    0.331808  0.607073  0.507821  0.953118  0.656889\n",
       "4     0.43367  0.947273  0.162297  0.420103  0.655472\n",
       "..        ...       ...       ...       ...       ...\n",
       "329  0.942466  0.445416  0.966202  0.295537  0.293268\n",
       "330  0.387183  0.186650  0.753521  0.025815  0.721198\n",
       "331  0.445693  0.522044  0.357614  0.175042  0.052485\n",
       "332  0.134392  0.838215  0.538764  0.339175  0.296753\n",
       "333  0.875011  0.898489  0.911705  0.943656  0.416888\n",
       "\n",
       "[334 rows x 5 columns]"
      ]
     },
     "execution_count": 106,
     "metadata": {},
     "output_type": "execute_result"
    }
   ],
   "source": [
    "newdf"
   ]
  },
  {
   "cell_type": "code",
   "execution_count": 109,
   "id": "5e1c7e64",
   "metadata": {},
   "outputs": [
    {
     "data": {
      "text/html": [
       "<div>\n",
       "<style scoped>\n",
       "    .dataframe tbody tr th:only-of-type {\n",
       "        vertical-align: middle;\n",
       "    }\n",
       "\n",
       "    .dataframe tbody tr th {\n",
       "        vertical-align: top;\n",
       "    }\n",
       "\n",
       "    .dataframe thead th {\n",
       "        text-align: right;\n",
       "    }\n",
       "</style>\n",
       "<table border=\"1\" class=\"dataframe\">\n",
       "  <thead>\n",
       "    <tr style=\"text-align: right;\">\n",
       "      <th></th>\n",
       "      <th>index</th>\n",
       "      <th>0</th>\n",
       "      <th>1</th>\n",
       "      <th>2</th>\n",
       "      <th>3</th>\n",
       "      <th>4</th>\n",
       "    </tr>\n",
       "  </thead>\n",
       "  <tbody>\n",
       "    <tr>\n",
       "      <th>0</th>\n",
       "      <td>0</td>\n",
       "      <td>54</td>\n",
       "      <td>0.133593</td>\n",
       "      <td>0.827758</td>\n",
       "      <td>0.332850</td>\n",
       "      <td>0.815619</td>\n",
       "    </tr>\n",
       "    <tr>\n",
       "      <th>1</th>\n",
       "      <td>1</td>\n",
       "      <td>0.223381</td>\n",
       "      <td>0.673758</td>\n",
       "      <td>0.708266</td>\n",
       "      <td>0.918993</td>\n",
       "      <td>0.229196</td>\n",
       "    </tr>\n",
       "    <tr>\n",
       "      <th>2</th>\n",
       "      <td>2</td>\n",
       "      <td>0.735779</td>\n",
       "      <td>0.986118</td>\n",
       "      <td>0.126935</td>\n",
       "      <td>0.685023</td>\n",
       "      <td>0.050855</td>\n",
       "    </tr>\n",
       "    <tr>\n",
       "      <th>3</th>\n",
       "      <td>3</td>\n",
       "      <td>0.331808</td>\n",
       "      <td>0.607073</td>\n",
       "      <td>0.507821</td>\n",
       "      <td>0.953118</td>\n",
       "      <td>0.656889</td>\n",
       "    </tr>\n",
       "    <tr>\n",
       "      <th>4</th>\n",
       "      <td>4</td>\n",
       "      <td>0.43367</td>\n",
       "      <td>0.947273</td>\n",
       "      <td>0.162297</td>\n",
       "      <td>0.420103</td>\n",
       "      <td>0.655472</td>\n",
       "    </tr>\n",
       "  </tbody>\n",
       "</table>\n",
       "</div>"
      ],
      "text/plain": [
       "   index         0         1         2         3         4\n",
       "0      0        54  0.133593  0.827758  0.332850  0.815619\n",
       "1      1  0.223381  0.673758  0.708266  0.918993  0.229196\n",
       "2      2  0.735779  0.986118  0.126935  0.685023  0.050855\n",
       "3      3  0.331808  0.607073  0.507821  0.953118  0.656889\n",
       "4      4   0.43367  0.947273  0.162297  0.420103  0.655472"
      ]
     },
     "execution_count": 109,
     "metadata": {},
     "output_type": "execute_result"
    }
   ],
   "source": [
    "newdf.reset_index().head()"
   ]
  },
  {
   "cell_type": "code",
   "execution_count": 113,
   "id": "dc7f06db",
   "metadata": {},
   "outputs": [],
   "source": [
    "newdf.reset_index(drop=True,inplace=True)"
   ]
  },
  {
   "cell_type": "code",
   "execution_count": 117,
   "id": "1131d93e",
   "metadata": {},
   "outputs": [
    {
     "data": {
      "text/html": [
       "<div>\n",
       "<style scoped>\n",
       "    .dataframe tbody tr th:only-of-type {\n",
       "        vertical-align: middle;\n",
       "    }\n",
       "\n",
       "    .dataframe tbody tr th {\n",
       "        vertical-align: top;\n",
       "    }\n",
       "\n",
       "    .dataframe thead th {\n",
       "        text-align: right;\n",
       "    }\n",
       "</style>\n",
       "<table border=\"1\" class=\"dataframe\">\n",
       "  <thead>\n",
       "    <tr style=\"text-align: right;\">\n",
       "      <th></th>\n",
       "      <th>level_0</th>\n",
       "      <th>index</th>\n",
       "      <th>0</th>\n",
       "      <th>1</th>\n",
       "      <th>2</th>\n",
       "      <th>3</th>\n",
       "      <th>4</th>\n",
       "    </tr>\n",
       "  </thead>\n",
       "  <tbody>\n",
       "    <tr>\n",
       "      <th>0</th>\n",
       "      <td>0</td>\n",
       "      <td>0</td>\n",
       "      <td>54</td>\n",
       "      <td>0.133593</td>\n",
       "      <td>0.827758</td>\n",
       "      <td>0.332850</td>\n",
       "      <td>0.815619</td>\n",
       "    </tr>\n",
       "    <tr>\n",
       "      <th>1</th>\n",
       "      <td>1</td>\n",
       "      <td>1</td>\n",
       "      <td>0.223381</td>\n",
       "      <td>0.673758</td>\n",
       "      <td>0.708266</td>\n",
       "      <td>0.918993</td>\n",
       "      <td>0.229196</td>\n",
       "    </tr>\n",
       "    <tr>\n",
       "      <th>2</th>\n",
       "      <td>2</td>\n",
       "      <td>2</td>\n",
       "      <td>0.735779</td>\n",
       "      <td>0.986118</td>\n",
       "      <td>0.126935</td>\n",
       "      <td>0.685023</td>\n",
       "      <td>0.050855</td>\n",
       "    </tr>\n",
       "  </tbody>\n",
       "</table>\n",
       "</div>"
      ],
      "text/plain": [
       "   level_0  index         0         1         2         3         4\n",
       "0        0      0        54  0.133593  0.827758  0.332850  0.815619\n",
       "1        1      1  0.223381  0.673758  0.708266  0.918993  0.229196\n",
       "2        2      2  0.735779  0.986118  0.126935  0.685023  0.050855"
      ]
     },
     "execution_count": 117,
     "metadata": {},
     "output_type": "execute_result"
    }
   ],
   "source": [
    "newdf.head(3)"
   ]
  },
  {
   "cell_type": "code",
   "execution_count": 118,
   "id": "b3d786bd",
   "metadata": {},
   "outputs": [],
   "source": [
    "df = pd.DataFrame({\"name\": ['Alfred', 'Batman', 'Catwoman'],\n",
    "                   \"toy\": [np.nan, 'Batmobile', 'Bullwhip'],\n",
    "                   \"born\": [pd.NaT, pd.Timestamp(\"1940-04-25\"),\n",
    "                            pd.NaT]})"
   ]
  },
  {
   "cell_type": "code",
   "execution_count": 119,
   "id": "0f5e6036",
   "metadata": {},
   "outputs": [
    {
     "data": {
      "text/html": [
       "<div>\n",
       "<style scoped>\n",
       "    .dataframe tbody tr th:only-of-type {\n",
       "        vertical-align: middle;\n",
       "    }\n",
       "\n",
       "    .dataframe tbody tr th {\n",
       "        vertical-align: top;\n",
       "    }\n",
       "\n",
       "    .dataframe thead th {\n",
       "        text-align: right;\n",
       "    }\n",
       "</style>\n",
       "<table border=\"1\" class=\"dataframe\">\n",
       "  <thead>\n",
       "    <tr style=\"text-align: right;\">\n",
       "      <th></th>\n",
       "      <th>name</th>\n",
       "      <th>toy</th>\n",
       "      <th>born</th>\n",
       "    </tr>\n",
       "  </thead>\n",
       "  <tbody>\n",
       "    <tr>\n",
       "      <th>0</th>\n",
       "      <td>Alfred</td>\n",
       "      <td>NaN</td>\n",
       "      <td>NaT</td>\n",
       "    </tr>\n",
       "    <tr>\n",
       "      <th>1</th>\n",
       "      <td>Batman</td>\n",
       "      <td>Batmobile</td>\n",
       "      <td>1940-04-25</td>\n",
       "    </tr>\n",
       "    <tr>\n",
       "      <th>2</th>\n",
       "      <td>Catwoman</td>\n",
       "      <td>Bullwhip</td>\n",
       "      <td>NaT</td>\n",
       "    </tr>\n",
       "  </tbody>\n",
       "</table>\n",
       "</div>"
      ],
      "text/plain": [
       "       name        toy       born\n",
       "0    Alfred        NaN        NaT\n",
       "1    Batman  Batmobile 1940-04-25\n",
       "2  Catwoman   Bullwhip        NaT"
      ]
     },
     "execution_count": 119,
     "metadata": {},
     "output_type": "execute_result"
    }
   ],
   "source": [
    "df"
   ]
  },
  {
   "cell_type": "code",
   "execution_count": 121,
   "id": "34aa5af6",
   "metadata": {},
   "outputs": [
    {
     "data": {
      "text/html": [
       "<div>\n",
       "<style scoped>\n",
       "    .dataframe tbody tr th:only-of-type {\n",
       "        vertical-align: middle;\n",
       "    }\n",
       "\n",
       "    .dataframe tbody tr th {\n",
       "        vertical-align: top;\n",
       "    }\n",
       "\n",
       "    .dataframe thead th {\n",
       "        text-align: right;\n",
       "    }\n",
       "</style>\n",
       "<table border=\"1\" class=\"dataframe\">\n",
       "  <thead>\n",
       "    <tr style=\"text-align: right;\">\n",
       "      <th></th>\n",
       "      <th>name</th>\n",
       "      <th>toy</th>\n",
       "      <th>born</th>\n",
       "    </tr>\n",
       "  </thead>\n",
       "  <tbody>\n",
       "    <tr>\n",
       "      <th>1</th>\n",
       "      <td>Batman</td>\n",
       "      <td>Batmobile</td>\n",
       "      <td>1940-04-25</td>\n",
       "    </tr>\n",
       "  </tbody>\n",
       "</table>\n",
       "</div>"
      ],
      "text/plain": [
       "     name        toy       born\n",
       "1  Batman  Batmobile 1940-04-25"
      ]
     },
     "execution_count": 121,
     "metadata": {},
     "output_type": "execute_result"
    }
   ],
   "source": [
    "df.dropna()"
   ]
  },
  {
   "cell_type": "code",
   "execution_count": null,
   "id": "1b2deb0e",
   "metadata": {},
   "outputs": [],
   "source": []
  }
 ],
 "metadata": {
  "kernelspec": {
   "display_name": "Python 3 (ipykernel)",
   "language": "python",
   "name": "python3"
  },
  "language_info": {
   "codemirror_mode": {
    "name": "ipython",
    "version": 3
   },
   "file_extension": ".py",
   "mimetype": "text/x-python",
   "name": "python",
   "nbconvert_exporter": "python",
   "pygments_lexer": "ipython3",
   "version": "3.9.12"
  }
 },
 "nbformat": 4,
 "nbformat_minor": 5
}
