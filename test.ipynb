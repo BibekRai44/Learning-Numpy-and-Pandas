{
 "cells": [
  {
   "cell_type": "markdown",
   "id": "cac8cb4c",
   "metadata": {},
   "source": [
    "# Welcome to numpy tutorial"
   ]
  },
  {
   "cell_type": "code",
   "execution_count": 1,
   "id": "17e77f71",
   "metadata": {},
   "outputs": [],
   "source": [
    "import numpy as np\n"
   ]
  },
  {
   "cell_type": "markdown",
   "id": "819d7cb2",
   "metadata": {},
   "source": [
    "# Trying Basic Level list with numpy\n"
   ]
  },
  {
   "cell_type": "code",
   "execution_count": 2,
   "id": "730c22c2",
   "metadata": {},
   "outputs": [],
   "source": [
    "myarr=np.array([2,3,4,5],np.int64)"
   ]
  },
  {
   "cell_type": "code",
   "execution_count": 3,
   "id": "dd1e4c7f",
   "metadata": {},
   "outputs": [
    {
     "data": {
      "text/plain": [
       "2"
      ]
     },
     "execution_count": 3,
     "metadata": {},
     "output_type": "execute_result"
    }
   ],
   "source": [
    "myarr[0]"
   ]
  },
  {
   "cell_type": "code",
   "execution_count": 4,
   "id": "5b2d7e9d",
   "metadata": {},
   "outputs": [
    {
     "data": {
      "text/plain": [
       "(4,)"
      ]
     },
     "execution_count": 4,
     "metadata": {},
     "output_type": "execute_result"
    }
   ],
   "source": [
    "myarr.shape"
   ]
  },
  {
   "cell_type": "code",
   "execution_count": 5,
   "id": "b1496af1",
   "metadata": {},
   "outputs": [
    {
     "data": {
      "text/plain": [
       "dtype('int64')"
      ]
     },
     "execution_count": 5,
     "metadata": {},
     "output_type": "execute_result"
    }
   ],
   "source": [
    "myarr.dtype"
   ]
  },
  {
   "cell_type": "code",
   "execution_count": 6,
   "id": "4a76812f",
   "metadata": {},
   "outputs": [],
   "source": [
    "myarr[0]=45"
   ]
  },
  {
   "cell_type": "code",
   "execution_count": 7,
   "id": "bd650cbd",
   "metadata": {},
   "outputs": [
    {
     "data": {
      "text/plain": [
       "array([45,  3,  4,  5], dtype=int64)"
      ]
     },
     "execution_count": 7,
     "metadata": {},
     "output_type": "execute_result"
    }
   ],
   "source": [
    "myarr"
   ]
  },
  {
   "cell_type": "markdown",
   "id": "d7ba3348",
   "metadata": {},
   "source": [
    "# Array Creation : Conversion from other Python structures\n"
   ]
  },
  {
   "cell_type": "code",
   "execution_count": 8,
   "id": "b195b577",
   "metadata": {},
   "outputs": [],
   "source": [
    "arr=np.array([[2,3,4],[3,4,5],[5,6,7]])"
   ]
  },
  {
   "cell_type": "code",
   "execution_count": 9,
   "id": "178aa3d1",
   "metadata": {},
   "outputs": [
    {
     "data": {
      "text/plain": [
       "array([[2, 3, 4],\n",
       "       [3, 4, 5],\n",
       "       [5, 6, 7]])"
      ]
     },
     "execution_count": 9,
     "metadata": {},
     "output_type": "execute_result"
    }
   ],
   "source": [
    "arr"
   ]
  },
  {
   "cell_type": "code",
   "execution_count": 10,
   "id": "839a94d0",
   "metadata": {},
   "outputs": [
    {
     "data": {
      "text/plain": [
       "(3, 3)"
      ]
     },
     "execution_count": 10,
     "metadata": {},
     "output_type": "execute_result"
    }
   ],
   "source": [
    "arr.shape"
   ]
  },
  {
   "cell_type": "code",
   "execution_count": 11,
   "id": "8d9fec99",
   "metadata": {},
   "outputs": [
    {
     "data": {
      "text/plain": [
       "9"
      ]
     },
     "execution_count": 11,
     "metadata": {},
     "output_type": "execute_result"
    }
   ],
   "source": [
    "arr.size"
   ]
  },
  {
   "cell_type": "code",
   "execution_count": 12,
   "id": "b349744d",
   "metadata": {},
   "outputs": [
    {
     "data": {
      "text/plain": [
       "dtype('int32')"
      ]
     },
     "execution_count": 12,
     "metadata": {},
     "output_type": "execute_result"
    }
   ],
   "source": [
    "arr.dtype"
   ]
  },
  {
   "cell_type": "markdown",
   "id": "2c6826b5",
   "metadata": {},
   "source": [
    "# Instrinsic numpy array creation objects"
   ]
  },
  {
   "cell_type": "code",
   "execution_count": 13,
   "id": "8bfd6e84",
   "metadata": {},
   "outputs": [],
   "source": [
    "zeros=np.zeros((3,4))"
   ]
  },
  {
   "cell_type": "code",
   "execution_count": 14,
   "id": "19e06f47",
   "metadata": {},
   "outputs": [
    {
     "data": {
      "text/plain": [
       "array([[0., 0., 0., 0.],\n",
       "       [0., 0., 0., 0.],\n",
       "       [0., 0., 0., 0.]])"
      ]
     },
     "execution_count": 14,
     "metadata": {},
     "output_type": "execute_result"
    }
   ],
   "source": [
    "zeros"
   ]
  },
  {
   "cell_type": "code",
   "execution_count": 15,
   "id": "c448cf94",
   "metadata": {},
   "outputs": [
    {
     "data": {
      "text/plain": [
       "dtype('float64')"
      ]
     },
     "execution_count": 15,
     "metadata": {},
     "output_type": "execute_result"
    }
   ],
   "source": [
    "zeros.dtype\n"
   ]
  },
  {
   "cell_type": "code",
   "execution_count": 16,
   "id": "03788e50",
   "metadata": {},
   "outputs": [
    {
     "data": {
      "text/plain": [
       "(3, 4)"
      ]
     },
     "execution_count": 16,
     "metadata": {},
     "output_type": "execute_result"
    }
   ],
   "source": [
    "zeros.shape"
   ]
  },
  {
   "cell_type": "markdown",
   "id": "9f87fc04",
   "metadata": {},
   "source": [
    "**Arranging**"
   ]
  },
  {
   "cell_type": "code",
   "execution_count": 17,
   "id": "27d309a4",
   "metadata": {},
   "outputs": [],
   "source": [
    "range=np.arange(15)"
   ]
  },
  {
   "cell_type": "code",
   "execution_count": 18,
   "id": "ea2c90a0",
   "metadata": {},
   "outputs": [
    {
     "data": {
      "text/plain": [
       "array([ 0,  1,  2,  3,  4,  5,  6,  7,  8,  9, 10, 11, 12, 13, 14])"
      ]
     },
     "execution_count": 18,
     "metadata": {},
     "output_type": "execute_result"
    }
   ],
   "source": [
    "range"
   ]
  },
  {
   "cell_type": "markdown",
   "id": "6fbf7fac",
   "metadata": {},
   "source": [
    "**Empty Array**"
   ]
  },
  {
   "cell_type": "code",
   "execution_count": 19,
   "id": "9ae678a2",
   "metadata": {},
   "outputs": [],
   "source": [
    "emp=np.empty((4,5))"
   ]
  },
  {
   "cell_type": "code",
   "execution_count": 20,
   "id": "ae8c7620",
   "metadata": {},
   "outputs": [
    {
     "data": {
      "text/plain": [
       "array([[1.21828587e-311, 6.02760088e-322, 0.00000000e+000,\n",
       "        0.00000000e+000, 8.45593933e-307],\n",
       "       [1.15998412e-028, 4.31603868e-080, 1.94919985e-153,\n",
       "        1.35717430e+131, 1.28822630e-057],\n",
       "       [6.01347176e-154, 1.28822658e-057, 1.81148490e-152,\n",
       "        1.13281333e-051, 5.56658500e+141],\n",
       "       [3.77778426e+180, 1.15998412e-028, 8.93168690e+271,\n",
       "        4.98131536e+151, 1.94920670e-153]])"
      ]
     },
     "execution_count": 20,
     "metadata": {},
     "output_type": "execute_result"
    }
   ],
   "source": [
    "emp"
   ]
  },
  {
   "cell_type": "code",
   "execution_count": 21,
   "id": "55ccef71",
   "metadata": {},
   "outputs": [],
   "source": [
    "emp_like=np.empty_like(arr)"
   ]
  },
  {
   "cell_type": "code",
   "execution_count": 22,
   "id": "4fa769f4",
   "metadata": {},
   "outputs": [
    {
     "data": {
      "text/plain": [
       "array([[4128860, 6029375, 3801155],\n",
       "       [5570652, 6619251, 7536754],\n",
       "       [4980828, 7209061, 7733359]])"
      ]
     },
     "execution_count": 22,
     "metadata": {},
     "output_type": "execute_result"
    }
   ],
   "source": [
    "emp_like"
   ]
  },
  {
   "cell_type": "markdown",
   "id": "c7c3cc12",
   "metadata": {},
   "source": [
    "**Arranging and Shaping**"
   ]
  },
  {
   "cell_type": "code",
   "execution_count": 23,
   "id": "ed4e1d09",
   "metadata": {},
   "outputs": [],
   "source": [
    "new_arr=np.arange(99)\n"
   ]
  },
  {
   "cell_type": "code",
   "execution_count": 24,
   "id": "ba87f2e2",
   "metadata": {},
   "outputs": [
    {
     "data": {
      "text/plain": [
       "array([ 0,  1,  2,  3,  4,  5,  6,  7,  8,  9, 10, 11, 12, 13, 14, 15, 16,\n",
       "       17, 18, 19, 20, 21, 22, 23, 24, 25, 26, 27, 28, 29, 30, 31, 32, 33,\n",
       "       34, 35, 36, 37, 38, 39, 40, 41, 42, 43, 44, 45, 46, 47, 48, 49, 50,\n",
       "       51, 52, 53, 54, 55, 56, 57, 58, 59, 60, 61, 62, 63, 64, 65, 66, 67,\n",
       "       68, 69, 70, 71, 72, 73, 74, 75, 76, 77, 78, 79, 80, 81, 82, 83, 84,\n",
       "       85, 86, 87, 88, 89, 90, 91, 92, 93, 94, 95, 96, 97, 98])"
      ]
     },
     "execution_count": 24,
     "metadata": {},
     "output_type": "execute_result"
    }
   ],
   "source": [
    "new_arr"
   ]
  },
  {
   "cell_type": "code",
   "execution_count": 25,
   "id": "02953261",
   "metadata": {},
   "outputs": [
    {
     "data": {
      "text/plain": [
       "array([[ 0,  1,  2,  3,  4,  5,  6,  7,  8,  9, 10, 11, 12, 13, 14, 15,\n",
       "        16, 17, 18, 19, 20, 21, 22, 23, 24, 25, 26, 27, 28, 29, 30, 31,\n",
       "        32],\n",
       "       [33, 34, 35, 36, 37, 38, 39, 40, 41, 42, 43, 44, 45, 46, 47, 48,\n",
       "        49, 50, 51, 52, 53, 54, 55, 56, 57, 58, 59, 60, 61, 62, 63, 64,\n",
       "        65],\n",
       "       [66, 67, 68, 69, 70, 71, 72, 73, 74, 75, 76, 77, 78, 79, 80, 81,\n",
       "        82, 83, 84, 85, 86, 87, 88, 89, 90, 91, 92, 93, 94, 95, 96, 97,\n",
       "        98]])"
      ]
     },
     "execution_count": 25,
     "metadata": {},
     "output_type": "execute_result"
    }
   ],
   "source": [
    "new_arr.reshape(3,33)"
   ]
  },
  {
   "cell_type": "code",
   "execution_count": 26,
   "id": "85e6c92d",
   "metadata": {},
   "outputs": [
    {
     "data": {
      "text/plain": [
       "array([ 0,  1,  2,  3,  4,  5,  6,  7,  8,  9, 10, 11, 12, 13, 14, 15, 16,\n",
       "       17, 18, 19, 20, 21, 22, 23, 24, 25, 26, 27, 28, 29, 30, 31, 32, 33,\n",
       "       34, 35, 36, 37, 38, 39, 40, 41, 42, 43, 44, 45, 46, 47, 48, 49, 50,\n",
       "       51, 52, 53, 54, 55, 56, 57, 58, 59, 60, 61, 62, 63, 64, 65, 66, 67,\n",
       "       68, 69, 70, 71, 72, 73, 74, 75, 76, 77, 78, 79, 80, 81, 82, 83, 84,\n",
       "       85, 86, 87, 88, 89, 90, 91, 92, 93, 94, 95, 96, 97, 98])"
      ]
     },
     "execution_count": 26,
     "metadata": {},
     "output_type": "execute_result"
    }
   ],
   "source": [
    "new_arr.ravel()"
   ]
  },
  {
   "cell_type": "markdown",
   "id": "c3493db7",
   "metadata": {},
   "source": [
    "**Axis**"
   ]
  },
  {
   "cell_type": "code",
   "execution_count": 27,
   "id": "bc501d0d",
   "metadata": {},
   "outputs": [
    {
     "data": {
      "text/plain": [
       "array([[2, 3, 4],\n",
       "       [3, 4, 5],\n",
       "       [5, 6, 7]])"
      ]
     },
     "execution_count": 27,
     "metadata": {},
     "output_type": "execute_result"
    }
   ],
   "source": [
    "arr"
   ]
  },
  {
   "cell_type": "code",
   "execution_count": 28,
   "id": "917d7ed2",
   "metadata": {},
   "outputs": [
    {
     "data": {
      "text/plain": [
       "array([10, 13, 16])"
      ]
     },
     "execution_count": 28,
     "metadata": {},
     "output_type": "execute_result"
    }
   ],
   "source": [
    "arr.sum(axis=0)"
   ]
  },
  {
   "cell_type": "code",
   "execution_count": 29,
   "id": "57c39d3e",
   "metadata": {},
   "outputs": [
    {
     "data": {
      "text/plain": [
       "array([ 9, 12, 18])"
      ]
     },
     "execution_count": 29,
     "metadata": {},
     "output_type": "execute_result"
    }
   ],
   "source": [
    "arr.sum(axis=1)"
   ]
  },
  {
   "cell_type": "code",
   "execution_count": 30,
   "id": "e53dea1f",
   "metadata": {},
   "outputs": [
    {
     "data": {
      "text/plain": [
       "array([[2, 3, 5],\n",
       "       [3, 4, 6],\n",
       "       [4, 5, 7]])"
      ]
     },
     "execution_count": 30,
     "metadata": {},
     "output_type": "execute_result"
    }
   ],
   "source": [
    "arr.T"
   ]
  },
  {
   "cell_type": "markdown",
   "id": "422f6be1",
   "metadata": {},
   "source": [
    "*T* transpose the array."
   ]
  },
  {
   "cell_type": "markdown",
   "id": "f8b08ae7",
   "metadata": {},
   "source": [
    "**1D array**"
   ]
  },
  {
   "cell_type": "code",
   "execution_count": 31,
   "id": "390adc90",
   "metadata": {},
   "outputs": [],
   "source": [
    "one=np.array([1,2,3,4,5,656,343])"
   ]
  },
  {
   "cell_type": "code",
   "execution_count": 32,
   "id": "502a9c71",
   "metadata": {},
   "outputs": [
    {
     "data": {
      "text/plain": [
       "array([  1,   2,   3,   4,   5, 656, 343])"
      ]
     },
     "execution_count": 32,
     "metadata": {},
     "output_type": "execute_result"
    }
   ],
   "source": [
    "one"
   ]
  },
  {
   "cell_type": "code",
   "execution_count": 33,
   "id": "af4fda53",
   "metadata": {},
   "outputs": [
    {
     "data": {
      "text/plain": [
       "5"
      ]
     },
     "execution_count": 33,
     "metadata": {},
     "output_type": "execute_result"
    }
   ],
   "source": [
    "one.argmax()"
   ]
  },
  {
   "cell_type": "markdown",
   "id": "093a4a8c",
   "metadata": {},
   "source": [
    "*argmax()* shows the index position of greatest value in an array. "
   ]
  },
  {
   "cell_type": "code",
   "execution_count": 34,
   "id": "6acfa568",
   "metadata": {},
   "outputs": [
    {
     "data": {
      "text/plain": [
       "0"
      ]
     },
     "execution_count": 34,
     "metadata": {},
     "output_type": "execute_result"
    }
   ],
   "source": [
    "one.argmin()"
   ]
  },
  {
   "cell_type": "markdown",
   "id": "da628b7b",
   "metadata": {},
   "source": [
    "*argmin()* shows the index position of smallest value in an array."
   ]
  },
  {
   "cell_type": "code",
   "execution_count": 35,
   "id": "d1131402",
   "metadata": {},
   "outputs": [
    {
     "data": {
      "text/plain": [
       "array([0, 1, 2, 3, 4, 6, 5], dtype=int64)"
      ]
     },
     "execution_count": 35,
     "metadata": {},
     "output_type": "execute_result"
    }
   ],
   "source": [
    "one.argsort()"
   ]
  },
  {
   "cell_type": "markdown",
   "id": "60ba5fcf",
   "metadata": {},
   "source": [
    "*argsort()* displays the index position of values in terms of their size"
   ]
  },
  {
   "cell_type": "code",
   "execution_count": 36,
   "id": "4459e07d",
   "metadata": {},
   "outputs": [
    {
     "data": {
      "text/plain": [
       "array([[2, 3, 4],\n",
       "       [3, 4, 5],\n",
       "       [5, 6, 7]])"
      ]
     },
     "execution_count": 36,
     "metadata": {},
     "output_type": "execute_result"
    }
   ],
   "source": [
    "arr"
   ]
  },
  {
   "cell_type": "code",
   "execution_count": 38,
   "id": "80f68562",
   "metadata": {},
   "outputs": [
    {
     "data": {
      "text/plain": [
       "array([[0, 0, 0],\n",
       "       [1, 1, 1],\n",
       "       [2, 2, 2]], dtype=int64)"
      ]
     },
     "execution_count": 38,
     "metadata": {},
     "output_type": "execute_result"
    }
   ],
   "source": [
    "arr.argsort(axis=0)"
   ]
  },
  {
   "cell_type": "code",
   "execution_count": 40,
   "id": "cd9ec485",
   "metadata": {},
   "outputs": [
    {
     "data": {
      "text/plain": [
       "array([[0, 1, 2],\n",
       "       [0, 1, 2],\n",
       "       [0, 1, 2]], dtype=int64)"
      ]
     },
     "execution_count": 40,
     "metadata": {},
     "output_type": "execute_result"
    }
   ],
   "source": [
    "arr.argsort(axis=1)"
   ]
  },
  {
   "cell_type": "markdown",
   "id": "46758754",
   "metadata": {},
   "source": [
    "# Basic array arithmetic operations"
   ]
  },
  {
   "cell_type": "code",
   "execution_count": 43,
   "id": "c2e0cd9f",
   "metadata": {},
   "outputs": [],
   "source": [
    "arr2=np.array([[2,5,7],[3,7,1],[6,3,8]])"
   ]
  },
  {
   "cell_type": "code",
   "execution_count": 44,
   "id": "fd0ed01d",
   "metadata": {},
   "outputs": [
    {
     "data": {
      "text/plain": [
       "array([[2, 5, 7],\n",
       "       [3, 7, 1],\n",
       "       [6, 3, 8]])"
      ]
     },
     "execution_count": 44,
     "metadata": {},
     "output_type": "execute_result"
    }
   ],
   "source": [
    "arr2"
   ]
  },
  {
   "cell_type": "code",
   "execution_count": 46,
   "id": "7b6acf65",
   "metadata": {},
   "outputs": [
    {
     "data": {
      "text/plain": [
       "array([[2, 3, 4],\n",
       "       [3, 4, 5],\n",
       "       [5, 6, 7]])"
      ]
     },
     "execution_count": 46,
     "metadata": {},
     "output_type": "execute_result"
    }
   ],
   "source": [
    "arr"
   ]
  },
  {
   "cell_type": "code",
   "execution_count": 47,
   "id": "b4bd7631",
   "metadata": {},
   "outputs": [
    {
     "data": {
      "text/plain": [
       "array([[ 4,  8, 11],\n",
       "       [ 6, 11,  6],\n",
       "       [11,  9, 15]])"
      ]
     },
     "execution_count": 47,
     "metadata": {},
     "output_type": "execute_result"
    }
   ],
   "source": [
    "arr2 + arr"
   ]
  },
  {
   "cell_type": "code",
   "execution_count": 48,
   "id": "71eff2d4",
   "metadata": {},
   "outputs": [
    {
     "data": {
      "text/plain": [
       "array([[ 0,  2,  3],\n",
       "       [ 0,  3, -4],\n",
       "       [ 1, -3,  1]])"
      ]
     },
     "execution_count": 48,
     "metadata": {},
     "output_type": "execute_result"
    }
   ],
   "source": [
    "arr2 - arr"
   ]
  },
  {
   "cell_type": "code",
   "execution_count": 49,
   "id": "ff5af8f0",
   "metadata": {},
   "outputs": [
    {
     "data": {
      "text/plain": [
       "array([[ 4, 15, 28],\n",
       "       [ 9, 28,  5],\n",
       "       [30, 18, 56]])"
      ]
     },
     "execution_count": 49,
     "metadata": {},
     "output_type": "execute_result"
    }
   ],
   "source": [
    "arr2 * arr"
   ]
  },
  {
   "cell_type": "code",
   "execution_count": 50,
   "id": "1a64c63c",
   "metadata": {},
   "outputs": [
    {
     "data": {
      "text/plain": [
       "array([[1.        , 1.66666667, 1.75      ],\n",
       "       [1.        , 1.75      , 0.2       ],\n",
       "       [1.2       , 0.5       , 1.14285714]])"
      ]
     },
     "execution_count": 50,
     "metadata": {},
     "output_type": "execute_result"
    }
   ],
   "source": [
    "arr2 / arr"
   ]
  },
  {
   "cell_type": "code",
   "execution_count": 53,
   "id": "2650f81d",
   "metadata": {},
   "outputs": [],
   "source": [
    "x=np.sqrt(9)"
   ]
  },
  {
   "cell_type": "code",
   "execution_count": 54,
   "id": "10d30eea",
   "metadata": {},
   "outputs": [
    {
     "data": {
      "text/plain": [
       "3.0"
      ]
     },
     "execution_count": 54,
     "metadata": {},
     "output_type": "execute_result"
    }
   ],
   "source": [
    "x"
   ]
  },
  {
   "cell_type": "code",
   "execution_count": null,
   "id": "b9e31d7c",
   "metadata": {},
   "outputs": [],
   "source": []
  }
 ],
 "metadata": {
  "kernelspec": {
   "display_name": "Python 3 (ipykernel)",
   "language": "python",
   "name": "python3"
  },
  "language_info": {
   "codemirror_mode": {
    "name": "ipython",
    "version": 3
   },
   "file_extension": ".py",
   "mimetype": "text/x-python",
   "name": "python",
   "nbconvert_exporter": "python",
   "pygments_lexer": "ipython3",
   "version": "3.9.12"
  }
 },
 "nbformat": 4,
 "nbformat_minor": 5
}
